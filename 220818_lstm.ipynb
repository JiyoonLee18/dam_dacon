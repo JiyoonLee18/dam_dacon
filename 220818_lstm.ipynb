{
 "cells": [
  {
   "cell_type": "markdown",
   "id": "92743b1e",
   "metadata": {},
   "source": [
    "# 학습"
   ]
  },
  {
   "cell_type": "code",
   "execution_count": 169,
   "id": "69aff68d",
   "metadata": {},
   "outputs": [],
   "source": [
    "import pandas as pd\n",
    "import numpy as np\n",
    "from glob import glob"
   ]
  },
  {
   "cell_type": "code",
   "execution_count": 170,
   "id": "0f743a92",
   "metadata": {},
   "outputs": [],
   "source": [
    "pd.set_option('display.max_rows', 500)"
   ]
  },
  {
   "cell_type": "code",
   "execution_count": 171,
   "id": "5f143223",
   "metadata": {},
   "outputs": [],
   "source": [
    "w_list = sorted(glob(\"competition_data/water_data/*.csv\"))\n",
    "r_list = sorted(glob(\"competition_data/rf_data/*.csv\"))\n",
    "sample=pd.read_csv('competition_data/sample_submission.csv')\n",
    "total_wd=pd.DataFrame()\n",
    "for i in range(0, len(w_list)):\n",
    "    total_wd=pd.concat([total_wd, pd.read_csv(w_list[i])])\n",
    "total_rf=pd.DataFrame()\n",
    "for i in range(0, len(r_list)):\n",
    "    total_rf=pd.concat([total_rf, pd.read_csv(r_list[i])])"
   ]
  },
  {
   "cell_type": "code",
   "execution_count": 172,
   "id": "c0b541df",
   "metadata": {},
   "outputs": [],
   "source": [
    "df_rf=total_rf.copy()\n",
    "df_water=total_wd.copy()\n",
    "submission=sample.copy()"
   ]
  },
  {
   "cell_type": "code",
   "execution_count": 173,
   "id": "a058b1a0",
   "metadata": {},
   "outputs": [],
   "source": [
    "df_rf.set_index('ymdhm', inplace=True)\n",
    "df_water.set_index('ymdhm', inplace=True)\n",
    "submission.set_index('ymdhm', inplace=True)"
   ]
  },
  {
   "cell_type": "code",
   "execution_count": 174,
   "id": "f77e65aa",
   "metadata": {},
   "outputs": [],
   "source": [
    "df_rf.name = \"rain_data\"\n",
    "df_water.name = \"water_data\"\n",
    "submission.name = \"submission\""
   ]
  },
  {
   "cell_type": "code",
   "execution_count": 175,
   "id": "6c17e9c1",
   "metadata": {},
   "outputs": [],
   "source": [
    "def index_to_datetime(df,format):\n",
    "    df.index = pd.to_datetime(df.index,\n",
    "                              format=format)\n",
    "    return df"
   ]
  },
  {
   "cell_type": "code",
   "execution_count": 176,
   "id": "76acbe1c",
   "metadata": {},
   "outputs": [],
   "source": [
    "df_rf=index_to_datetime(df=df_rf,format='%Y-%m-%d %H:%M')\n",
    "df_water=index_to_datetime(df=df_water,format='%Y-%m-%d %H:%M')\n",
    "submission=index_to_datetime(df=submission,format='%Y-%m-%d %H:%M')"
   ]
  },
  {
   "cell_type": "code",
   "execution_count": 177,
   "id": "c7e1c13a",
   "metadata": {},
   "outputs": [],
   "source": [
    "df_rf.sort_index(inplace=True)\n",
    "df_water.sort_index(inplace=True)\n",
    "submission.sort_index(inplace=True)"
   ]
  },
  {
   "cell_type": "code",
   "execution_count": 178,
   "id": "1a75ebf5",
   "metadata": {},
   "outputs": [
    {
     "name": "stdout",
     "output_type": "stream",
     "text": [
      "rain_data\n",
      "2012-05-01 00:00:00\n",
      "2022-07-18 23:50:00\n",
      "water_data\n",
      "2012-05-01 00:00:00\n",
      "2022-07-18 23:50:00\n",
      "submission\n",
      "2022-06-01 00:00:00\n",
      "2022-07-18 23:50:00\n"
     ]
    }
   ],
   "source": [
    "# 데이터 시간대 확인하기\n",
    "def check_datetime(df):\n",
    "    print(df.name)\n",
    "    print(df.select_dtypes('datetime64[ns]').head(1).index[0])\n",
    "    print(df.select_dtypes('datetime64[ns]').tail(1).index[0])\n",
    "    return None\n",
    "\n",
    "check_datetime(df_rf)\n",
    "check_datetime(df_water)\n",
    "check_datetime(submission)"
   ]
  },
  {
   "cell_type": "code",
   "execution_count": 179,
   "id": "14ad9587",
   "metadata": {},
   "outputs": [],
   "source": [
    "df_rf_copy=df_rf.copy()\n",
    "df_water_copy=df_water.copy()"
   ]
  },
  {
   "cell_type": "code",
   "execution_count": 180,
   "id": "bfde0686",
   "metadata": {},
   "outputs": [],
   "source": [
    "# data target 분리하기\n",
    "target = df_water.loc[:,submission.columns]\n",
    "data = pd.concat((df_rf,df_water.drop(submission.columns,axis=1)),axis=1)"
   ]
  },
  {
   "cell_type": "code",
   "execution_count": 181,
   "id": "1cf93a06",
   "metadata": {},
   "outputs": [],
   "source": [
    "# # data와 target 하나 밀어주기 (과거데이터를 사용해야 함으로)\n",
    "_target = target.reset_index(drop=True)\n",
    "_data = data.reset_index(drop=True)\n"
   ]
  },
  {
   "cell_type": "code",
   "execution_count": 182,
   "id": "fddef34f",
   "metadata": {},
   "outputs": [],
   "source": [
    "_data.index+=1"
   ]
  },
  {
   "cell_type": "code",
   "execution_count": 183,
   "id": "94a88001",
   "metadata": {},
   "outputs": [],
   "source": [
    "tot=pd.concat((_data,_target),axis=1)"
   ]
  },
  {
   "cell_type": "code",
   "execution_count": 184,
   "id": "bae0438b",
   "metadata": {},
   "outputs": [],
   "source": [
    "tot.sort_index(inplace=True)"
   ]
  },
  {
   "cell_type": "code",
   "execution_count": 185,
   "id": "e966976f",
   "metadata": {
    "scrolled": true
   },
   "outputs": [],
   "source": [
    "df_rf_copy.reset_index(inplace=True)"
   ]
  },
  {
   "cell_type": "code",
   "execution_count": 186,
   "id": "15d25ed8",
   "metadata": {},
   "outputs": [],
   "source": [
    "df_datetime=df_rf_copy[['ymdhm']]"
   ]
  },
  {
   "cell_type": "code",
   "execution_count": 187,
   "id": "6ce4ccc7",
   "metadata": {},
   "outputs": [],
   "source": [
    "# tot 이랑 시간 붙혀주기\n",
    "tot=pd.concat([df_datetime, tot], axis=1)"
   ]
  },
  {
   "cell_type": "code",
   "execution_count": 188,
   "id": "2d9c52c8",
   "metadata": {},
   "outputs": [],
   "source": [
    "# 첫행이랑 막행 없앰 =nan있는 행 삭제\n",
    "tot=tot.iloc[1:-1]"
   ]
  },
  {
   "cell_type": "code",
   "execution_count": 190,
   "id": "b36e16de",
   "metadata": {},
   "outputs": [],
   "source": [
    "# 4. valid 로 넘어가기\n",
    "total=tot.copy()"
   ]
  },
  {
   "cell_type": "code",
   "execution_count": 191,
   "id": "8dc84e59",
   "metadata": {},
   "outputs": [],
   "source": [
    "test=total[(total['ymdhm']>'2022-04-30')&(total['ymdhm']<'2022-06-01')]\n",
    "test.reset_index(inplace=True, drop=True)"
   ]
  },
  {
   "cell_type": "code",
   "execution_count": 192,
   "id": "33b8922e",
   "metadata": {},
   "outputs": [],
   "source": [
    "train=total[(total['ymdhm']<'2022-05-01')]\n",
    "train.reset_index(inplace=True, drop=True)"
   ]
  },
  {
   "cell_type": "code",
   "execution_count": 193,
   "id": "3dc0295f",
   "metadata": {},
   "outputs": [],
   "source": [
    "# sklearn 랜포 다시 따라가는.\n",
    "# 다시 분리\n",
    "train_target = train.loc[:,submission.columns]\n",
    "test_target = test.loc[:,submission.columns]\n",
    "\n",
    "train_data = train.drop(submission.columns,axis=1)\n",
    "test_data = test.drop(submission.columns,axis=1)\n",
    "train_data=train_data.drop('ymdhm', axis=1)\n",
    "test_data=test_data.drop('ymdhm', axis=1)"
   ]
  },
  {
   "cell_type": "code",
   "execution_count": 194,
   "id": "153f173c",
   "metadata": {},
   "outputs": [],
   "source": [
    "# null값 처리\n",
    "train_target.fillna(train_target.mean(),inplace=True)\n",
    "test_target.fillna(train_target.mean(),inplace=True)\n",
    "train_data.fillna(train_data.mean(),inplace=True)\n",
    "test_data.fillna(train_data.mean(),inplace=True)"
   ]
  },
  {
   "cell_type": "code",
   "execution_count": 195,
   "id": "641472e6",
   "metadata": {
    "scrolled": true
   },
   "outputs": [
    {
     "name": "stdout",
     "output_type": "stream",
     "text": [
      "--data--\n",
      "(264959, 13)\n",
      "(4464, 13)\n",
      "--target--\n",
      "(264959, 4)\n",
      "(4464, 4)\n"
     ]
    }
   ],
   "source": [
    "print('--data--')\n",
    "print(train_data.shape)\n",
    "print(test_data.shape)\n",
    "print('--target--')\n",
    "print(train_target.shape)\n",
    "print(test_target.shape)"
   ]
  },
  {
   "cell_type": "code",
   "execution_count": 196,
   "id": "f294d479",
   "metadata": {},
   "outputs": [],
   "source": [
    "from datetime import datetime \n",
    "import pandas_datareader.data as wb\n",
    "import pandas as pd\n",
    "import numpy as np\n",
    "import tensorflow as tf\n",
    "from sklearn.preprocessing import MinMaxScaler\n",
    "from sklearn.preprocessing import StandardScaler\n",
    "\n",
    "from tensorflow.keras import models\n",
    "from tensorflow.keras.models import Sequential\n",
    "from tensorflow.keras.layers import Dropout, Dense, SimpleRNN\n",
    "from tensorflow.keras.layers import LSTM\n",
    "import matplotlib.pyplot as plt"
   ]
  },
  {
   "cell_type": "code",
   "execution_count": 197,
   "id": "35492768",
   "metadata": {
    "scrolled": true
   },
   "outputs": [
    {
     "name": "stdout",
     "output_type": "stream",
     "text": [
      "Model: \"sequential_4\"\n",
      "_________________________________________________________________\n",
      " Layer (type)                Output Shape              Param #   \n",
      "=================================================================\n",
      " lstm_4 (LSTM)               (None, 512)               1077248   \n",
      "                                                                 \n",
      " dropout_4 (Dropout)         (None, 512)               0         \n",
      "                                                                 \n",
      " dense_4 (Dense)             (None, 1)                 513       \n",
      "                                                                 \n",
      "=================================================================\n",
      "Total params: 1,077,761\n",
      "Trainable params: 1,077,761\n",
      "Non-trainable params: 0\n",
      "_________________________________________________________________\n",
      "Epoch 1/20\n",
      "795/795 [==============================] - 15s 17ms/step - loss: 43958.3203 - mae: 184.6959 - mape: 55.0764\n",
      "Epoch 2/20\n",
      "795/795 [==============================] - 13s 17ms/step - loss: 3545.0815 - mae: 32.1717 - mape: 8.6516\n",
      "Epoch 3/20\n",
      "795/795 [==============================] - 13s 17ms/step - loss: 1114.2999 - mae: 15.0541 - mape: 4.1494\n",
      "Epoch 4/20\n",
      "795/795 [==============================] - 14s 17ms/step - loss: 684.8150 - mae: 12.7743 - mape: 3.6374\n",
      "Epoch 5/20\n",
      "795/795 [==============================] - 13s 17ms/step - loss: 558.7250 - mae: 12.6093 - mape: 3.6615\n",
      "Epoch 6/20\n",
      "795/795 [==============================] - 13s 17ms/step - loss: 517.2563 - mae: 12.6911 - mape: 3.7128\n",
      "Epoch 7/20\n",
      "795/795 [==============================] - 13s 17ms/step - loss: 489.7207 - mae: 12.6656 - mape: 3.7222\n",
      "Epoch 8/20\n",
      "795/795 [==============================] - 13s 17ms/step - loss: 488.7455 - mae: 12.8013 - mape: 3.7669\n",
      "Epoch 9/20\n",
      "795/795 [==============================] - 14s 18ms/step - loss: 490.0567 - mae: 12.8913 - mape: 3.8005\n",
      "Epoch 10/20\n",
      "795/795 [==============================] - 14s 17ms/step - loss: 460.2234 - mae: 12.7370 - mape: 3.7660\n",
      "Epoch 11/20\n",
      "795/795 [==============================] - 13s 17ms/step - loss: 448.6664 - mae: 12.5879 - mape: 3.7262\n",
      "Epoch 12/20\n",
      "795/795 [==============================] - 13s 17ms/step - loss: 436.1795 - mae: 12.5616 - mape: 3.7201\n",
      "Epoch 13/20\n",
      "795/795 [==============================] - 13s 17ms/step - loss: 421.9768 - mae: 12.3940 - mape: 3.6735\n",
      "Epoch 14/20\n",
      "795/795 [==============================] - 13s 17ms/step - loss: 403.1208 - mae: 12.2888 - mape: 3.6516\n",
      "Epoch 15/20\n",
      "795/795 [==============================] - 14s 17ms/step - loss: 410.3034 - mae: 12.2723 - mape: 3.6396\n",
      "Epoch 16/20\n",
      "795/795 [==============================] - 13s 17ms/step - loss: 405.8565 - mae: 12.2693 - mape: 3.6401\n",
      "Epoch 17/20\n",
      "795/795 [==============================] - 13s 17ms/step - loss: 399.2137 - mae: 12.1391 - mape: 3.6038\n",
      "Epoch 18/20\n",
      "795/795 [==============================] - 13s 17ms/step - loss: 405.5192 - mae: 12.1450 - mape: 3.6023\n",
      "Epoch 19/20\n",
      "795/795 [==============================] - 13s 17ms/step - loss: 392.3496 - mae: 12.0233 - mape: 3.5658\n",
      "Epoch 20/20\n",
      "795/795 [==============================] - 13s 17ms/step - loss: 385.1399 - mae: 12.0319 - mape: 3.5736\n",
      "140/140 [==============================] - 1s 3ms/step\n",
      "Model: \"sequential_5\"\n",
      "_________________________________________________________________\n",
      " Layer (type)                Output Shape              Param #   \n",
      "=================================================================\n",
      " lstm_5 (LSTM)               (None, 512)               1077248   \n",
      "                                                                 \n",
      " dropout_5 (Dropout)         (None, 512)               0         \n",
      "                                                                 \n",
      " dense_5 (Dense)             (None, 1)                 513       \n",
      "                                                                 \n",
      "=================================================================\n",
      "Total params: 1,077,761\n",
      "Trainable params: 1,077,761\n",
      "Non-trainable params: 0\n",
      "_________________________________________________________________\n",
      "Epoch 1/20\n",
      "795/795 [==============================] - 15s 17ms/step - loss: 38556.5977 - mae: 173.1008 - mape: 54.2756\n",
      "Epoch 2/20\n",
      "795/795 [==============================] - 14s 18ms/step - loss: 2738.0642 - mae: 30.1024 - mape: 8.7077\n",
      "Epoch 3/20\n",
      "795/795 [==============================] - 13s 17ms/step - loss: 1046.4323 - mae: 15.5830 - mape: 4.5565\n",
      "Epoch 4/20\n",
      "795/795 [==============================] - 13s 17ms/step - loss: 611.5787 - mae: 12.3869 - mape: 3.7076\n",
      "Epoch 5/20\n",
      "795/795 [==============================] - 13s 16ms/step - loss: 432.8335 - mae: 11.4410 - mape: 3.5031\n",
      "Epoch 6/20\n",
      "795/795 [==============================] - 15s 18ms/step - loss: 385.9355 - mae: 11.3201 - mape: 3.4970\n",
      "Epoch 7/20\n",
      "795/795 [==============================] - 16s 20ms/step - loss: 351.4540 - mae: 11.2462 - mape: 3.4945\n",
      "Epoch 8/20\n",
      "795/795 [==============================] - 15s 19ms/step - loss: 333.3670 - mae: 11.2069 - mape: 3.4930\n",
      "Epoch 9/20\n",
      "795/795 [==============================] - 14s 17ms/step - loss: 330.3182 - mae: 11.1876 - mape: 3.4880\n",
      "Epoch 10/20\n",
      "795/795 [==============================] - 14s 17ms/step - loss: 328.7435 - mae: 11.3114 - mape: 3.5299\n",
      "Epoch 11/20\n",
      "795/795 [==============================] - 13s 17ms/step - loss: 329.6618 - mae: 11.3411 - mape: 3.5406\n",
      "Epoch 12/20\n",
      "795/795 [==============================] - 13s 17ms/step - loss: 318.4131 - mae: 11.2526 - mape: 3.5197\n",
      "Epoch 13/20\n",
      "795/795 [==============================] - 14s 17ms/step - loss: 308.9337 - mae: 11.1879 - mape: 3.5036\n",
      "Epoch 14/20\n",
      "795/795 [==============================] - 14s 17ms/step - loss: 315.8797 - mae: 11.2696 - mape: 3.5244\n",
      "Epoch 15/20\n",
      "795/795 [==============================] - 13s 17ms/step - loss: 310.3307 - mae: 11.2376 - mape: 3.5181\n",
      "Epoch 16/20\n",
      "795/795 [==============================] - 13s 17ms/step - loss: 295.9057 - mae: 11.1575 - mape: 3.4966\n",
      "Epoch 17/20\n",
      "795/795 [==============================] - 13s 17ms/step - loss: 294.4025 - mae: 11.1046 - mape: 3.4784\n",
      "Epoch 18/20\n",
      "795/795 [==============================] - 14s 17ms/step - loss: 305.9983 - mae: 11.2485 - mape: 3.5165\n",
      "Epoch 19/20\n",
      "795/795 [==============================] - 14s 17ms/step - loss: 303.7033 - mae: 11.1786 - mape: 3.4931\n",
      "Epoch 20/20\n",
      "795/795 [==============================] - 14s 17ms/step - loss: 298.1744 - mae: 11.1407 - mape: 3.4833\n",
      "140/140 [==============================] - 1s 3ms/step\n",
      "Model: \"sequential_6\"\n",
      "_________________________________________________________________\n",
      " Layer (type)                Output Shape              Param #   \n",
      "=================================================================\n",
      " lstm_6 (LSTM)               (None, 512)               1077248   \n",
      "                                                                 \n",
      " dropout_6 (Dropout)         (None, 512)               0         \n",
      "                                                                 \n",
      " dense_6 (Dense)             (None, 1)                 513       \n",
      "                                                                 \n",
      "=================================================================\n",
      "Total params: 1,077,761\n",
      "Trainable params: 1,077,761\n",
      "Non-trainable params: 0\n",
      "_________________________________________________________________\n",
      "Epoch 1/20\n",
      "795/795 [==============================] - 17s 18ms/step - loss: 37321.3672 - mae: 170.1297 - mape: 53.8652\n",
      "Epoch 2/20\n",
      "795/795 [==============================] - 15s 18ms/step - loss: 2258.8052 - mae: 26.0649 - mape: 7.5666\n",
      "Epoch 3/20\n",
      "795/795 [==============================] - 14s 18ms/step - loss: 666.3848 - mae: 12.7420 - mape: 3.8069\n",
      "Epoch 4/20\n",
      "795/795 [==============================] - 15s 19ms/step - loss: 412.6208 - mae: 11.2905 - mape: 3.4767\n",
      "Epoch 5/20\n",
      "795/795 [==============================] - 15s 19ms/step - loss: 348.9567 - mae: 11.0889 - mape: 3.4586\n",
      "Epoch 6/20\n",
      "795/795 [==============================] - 14s 18ms/step - loss: 317.7380 - mae: 11.1044 - mape: 3.4901\n",
      "Epoch 7/20\n",
      "795/795 [==============================] - 14s 18ms/step - loss: 309.4803 - mae: 11.1091 - mape: 3.5025\n",
      "Epoch 8/20\n",
      "795/795 [==============================] - 14s 18ms/step - loss: 308.5867 - mae: 11.2150 - mape: 3.5368\n",
      "Epoch 9/20\n"
     ]
    },
    {
     "name": "stdout",
     "output_type": "stream",
     "text": [
      "795/795 [==============================] - 14s 18ms/step - loss: 294.7294 - mae: 11.0729 - mape: 3.5008\n",
      "Epoch 10/20\n",
      "795/795 [==============================] - 14s 18ms/step - loss: 288.3992 - mae: 11.0421 - mape: 3.4940\n",
      "Epoch 11/20\n",
      "795/795 [==============================] - 15s 19ms/step - loss: 279.2304 - mae: 10.8742 - mape: 3.4419\n",
      "Epoch 12/20\n",
      "795/795 [==============================] - 15s 18ms/step - loss: 276.6757 - mae: 10.8577 - mape: 3.4366\n",
      "Epoch 13/20\n",
      "795/795 [==============================] - 15s 18ms/step - loss: 276.6115 - mae: 10.9179 - mape: 3.4550\n",
      "Epoch 14/20\n",
      "795/795 [==============================] - 15s 19ms/step - loss: 270.4609 - mae: 10.7675 - mape: 3.4048\n",
      "Epoch 15/20\n",
      "795/795 [==============================] - 15s 18ms/step - loss: 270.5876 - mae: 10.7518 - mape: 3.4027\n",
      "Epoch 16/20\n",
      "795/795 [==============================] - 15s 19ms/step - loss: 263.6687 - mae: 10.6943 - mape: 3.3827\n",
      "Epoch 17/20\n",
      "795/795 [==============================] - 15s 19ms/step - loss: 269.5479 - mae: 10.7214 - mape: 3.3891\n",
      "Epoch 18/20\n",
      "795/795 [==============================] - 14s 18ms/step - loss: 270.7761 - mae: 10.8209 - mape: 3.4198\n",
      "Epoch 19/20\n",
      "795/795 [==============================] - 15s 19ms/step - loss: 270.4094 - mae: 10.7899 - mape: 3.4065\n",
      "Epoch 20/20\n",
      "795/795 [==============================] - 14s 18ms/step - loss: 273.9693 - mae: 10.7953 - mape: 3.4059\n",
      "140/140 [==============================] - 1s 3ms/step\n",
      "Model: \"sequential_7\"\n",
      "_________________________________________________________________\n",
      " Layer (type)                Output Shape              Param #   \n",
      "=================================================================\n",
      " lstm_7 (LSTM)               (None, 512)               1077248   \n",
      "                                                                 \n",
      " dropout_7 (Dropout)         (None, 512)               0         \n",
      "                                                                 \n",
      " dense_7 (Dense)             (None, 1)                 513       \n",
      "                                                                 \n",
      "=================================================================\n",
      "Total params: 1,077,761\n",
      "Trainable params: 1,077,761\n",
      "Non-trainable params: 0\n",
      "_________________________________________________________________\n",
      "Epoch 1/20\n",
      "795/795 [==============================] - 15s 17ms/step - loss: 32120.3086 - mae: 157.2444 - mape: 51.6377\n",
      "Epoch 2/20\n",
      "795/795 [==============================] - 14s 17ms/step - loss: 1242.2952 - mae: 20.0872 - mape: 6.1971\n",
      "Epoch 3/20\n",
      "795/795 [==============================] - 14s 17ms/step - loss: 280.8265 - mae: 9.7922 - mape: 3.1096\n",
      "Epoch 4/20\n",
      "795/795 [==============================] - 14s 17ms/step - loss: 212.9825 - mae: 9.7065 - mape: 3.1530\n",
      "Epoch 5/20\n",
      "795/795 [==============================] - 14s 17ms/step - loss: 188.3110 - mae: 9.6512 - mape: 3.1655\n",
      "Epoch 6/20\n",
      "795/795 [==============================] - 14s 17ms/step - loss: 177.6699 - mae: 9.5654 - mape: 3.1475\n",
      "Epoch 7/20\n",
      "795/795 [==============================] - 14s 18ms/step - loss: 172.5174 - mae: 9.5352 - mape: 3.1427\n",
      "Epoch 8/20\n",
      "795/795 [==============================] - 14s 18ms/step - loss: 165.6447 - mae: 9.4117 - mape: 3.1025\n",
      "Epoch 9/20\n",
      "795/795 [==============================] - 14s 18ms/step - loss: 157.2422 - mae: 9.2565 - mape: 3.0529\n",
      "Epoch 10/20\n",
      "795/795 [==============================] - 14s 17ms/step - loss: 151.8311 - mae: 9.1556 - mape: 3.0232\n",
      "Epoch 11/20\n",
      "795/795 [==============================] - 14s 18ms/step - loss: 151.4353 - mae: 9.1347 - mape: 3.0151\n",
      "Epoch 12/20\n",
      "795/795 [==============================] - 14s 18ms/step - loss: 153.5492 - mae: 9.1696 - mape: 3.0210\n",
      "Epoch 13/20\n",
      "795/795 [==============================] - 14s 17ms/step - loss: 147.5225 - mae: 9.0504 - mape: 2.9859\n",
      "Epoch 14/20\n",
      "795/795 [==============================] - 14s 17ms/step - loss: 146.4854 - mae: 9.0047 - mape: 2.9691\n",
      "Epoch 15/20\n",
      "795/795 [==============================] - 14s 17ms/step - loss: 143.2994 - mae: 8.9601 - mape: 2.9552\n",
      "Epoch 16/20\n",
      "795/795 [==============================] - 14s 17ms/step - loss: 143.4895 - mae: 8.9048 - mape: 2.9346\n",
      "Epoch 17/20\n",
      "795/795 [==============================] - 14s 17ms/step - loss: 141.8683 - mae: 8.8792 - mape: 2.9245\n",
      "Epoch 18/20\n",
      "795/795 [==============================] - 14s 18ms/step - loss: 139.3339 - mae: 8.7864 - mape: 2.8926\n",
      "Epoch 19/20\n",
      "795/795 [==============================] - 14s 17ms/step - loss: 140.4449 - mae: 8.8279 - mape: 2.9064\n",
      "Epoch 20/20\n",
      "795/795 [==============================] - 14s 17ms/step - loss: 142.2659 - mae: 8.8275 - mape: 2.9041\n",
      "140/140 [==============================] - 1s 3ms/step\n"
     ]
    }
   ],
   "source": [
    "tmp=pd.DataFrame()\n",
    "for i in range(test_target.shape[1]):\n",
    "    #train/test size 설정\n",
    "    train_size = int(len(train_data)*0.6)\n",
    "    validation_size = int(len(train_data)*0.3)+train_size\n",
    "\n",
    "    #train/test 학습 및 라벨 설정\n",
    "    #종가를 예측하기 위해 종가를 label로 설정\n",
    "    train_x = np.array(train_data[:train_size])\n",
    "    train_y = np.array(train_target.iloc[:train_size,i])\n",
    "\n",
    "    validation_x =np.array(train_data[train_size:validation_size])\n",
    "    validation_y = np.array(train_target.iloc[train_size:validation_size, i])\n",
    "\n",
    "    test_x = np.array(test_data)\n",
    "    test_y = np.array(test_target.iloc[:,i])\n",
    "    \n",
    "    learning_rate = 0.01\n",
    "    training_cnt = 20\n",
    "    batch_size = 200\n",
    "    input_size = train_x.shape[1]\n",
    "\n",
    "    time_step = 1\n",
    "\n",
    "    # reshape into (size(개수), time step, 입력 feature)\n",
    "    train_x = train_x.reshape(train_x.shape[0],1,input_size)\n",
    "    validation_x = validation_x.reshape(validation_x.shape[0], 1, input_size)\n",
    "    test_x = test_x.reshape(test_x.shape[0], 1, input_size)\n",
    "    \n",
    "\n",
    "        # 모델 구조\n",
    "    model = Sequential()\n",
    "    model.add(LSTM(512,input_shape=(1,input_size))) # 512는 다른 숫자로도 가능\n",
    "    model.add(Dropout(0.2)) \n",
    "    model.add(Dense(1,activation='relu')) #output(target)은 '종가'이기 때문에 1요소 = Dense의 output레이어는 1로 설정\n",
    "\n",
    "    #오차 및 최적화기 설정\n",
    "    model.compile(loss='mse',optimizer='rmsprop',metrics=['mae','mape'])\n",
    "    model.summary()\n",
    "\n",
    "\n",
    "    #학습\n",
    "    history = model.fit(train_x,train_y,epochs=training_cnt, batch_size=batch_size, verbose=1)\n",
    "    val_mse, val_mae, val_mape = model.evaluate(test_x, test_y, verbose=0)\n",
    "    \n",
    "    pred = model.predict(test_x)\n",
    "    column_name='col_'+str(i)\n",
    "    tmp[column_name]=pd.DataFrame(pred)\n",
    "    model_name='model_'+str(i)\n",
    "    model.save(model_name+'.h5')"
   ]
  },
  {
   "cell_type": "markdown",
   "id": "74ff2848",
   "metadata": {},
   "source": [
    "# 우리들의 test"
   ]
  },
  {
   "cell_type": "code",
   "execution_count": 198,
   "id": "702cb2f2",
   "metadata": {},
   "outputs": [],
   "source": [
    "from sklearn.metrics import mean_squared_error\n",
    "from math import sqrt"
   ]
  },
  {
   "cell_type": "code",
   "execution_count": 199,
   "id": "85fb24de",
   "metadata": {},
   "outputs": [
    {
     "name": "stdout",
     "output_type": "stream",
     "text": [
      "rmse :  8.014679333570877\n"
     ]
    }
   ],
   "source": [
    "print('rmse : ', sqrt(mean_squared_error( test_target.values, tmp.values ))) "
   ]
  },
  {
   "cell_type": "markdown",
   "id": "42d38102",
   "metadata": {},
   "source": [
    "# 찐 test"
   ]
  },
  {
   "cell_type": "code",
   "execution_count": 228,
   "id": "fb8f1fdb",
   "metadata": {},
   "outputs": [],
   "source": [
    "real_test=total[total['ymdhm']>='2022-06-01']\n",
    "real_test.reset_index(inplace=True, drop=True)\n",
    "real_test = real_test.drop(submission.columns,axis=1)\n",
    "real_test=real_test.drop('ymdhm', axis=1)\n",
    "real_test.fillna(train_data.mean(),inplace=True)"
   ]
  },
  {
   "cell_type": "code",
   "execution_count": 230,
   "id": "7ff64e5b",
   "metadata": {},
   "outputs": [
    {
     "data": {
      "text/plain": [
       "(6912, 13)"
      ]
     },
     "execution_count": 230,
     "metadata": {},
     "output_type": "execute_result"
    }
   ],
   "source": [
    "real_test.shape"
   ]
  },
  {
   "cell_type": "code",
   "execution_count": 206,
   "id": "9cd887f4",
   "metadata": {},
   "outputs": [],
   "source": [
    "model_list=sorted(glob(\"*.h5\"))"
   ]
  },
  {
   "cell_type": "code",
   "execution_count": 207,
   "id": "e42f937b",
   "metadata": {},
   "outputs": [
    {
     "data": {
      "text/plain": [
       "['model_0.h5', 'model_1.h5', 'model_2.h5', 'model_3.h5']"
      ]
     },
     "execution_count": 207,
     "metadata": {},
     "output_type": "execute_result"
    }
   ],
   "source": [
    "model_list"
   ]
  },
  {
   "cell_type": "code",
   "execution_count": 209,
   "id": "0731bc23",
   "metadata": {},
   "outputs": [
    {
     "name": "stdout",
     "output_type": "stream",
     "text": [
      "0 model_0.h5\n",
      "1 model_1.h5\n",
      "2 model_2.h5\n",
      "3 model_3.h5\n"
     ]
    }
   ],
   "source": [
    "for i,j in enumerate(model_list):\n",
    "    print(i,j)"
   ]
  },
  {
   "cell_type": "code",
   "execution_count": 212,
   "id": "8e4cccfc",
   "metadata": {},
   "outputs": [],
   "source": [
    "from keras.models import load_model, save_model"
   ]
  },
  {
   "cell_type": "code",
   "execution_count": 231,
   "id": "00e87a0a",
   "metadata": {},
   "outputs": [
    {
     "name": "stdout",
     "output_type": "stream",
     "text": [
      "216/216 [==============================] - 1s 3ms/step\n",
      "216/216 [==============================] - 1s 2ms/step\n",
      "216/216 [==============================] - 1s 2ms/step\n",
      "216/216 [==============================] - 1s 2ms/step\n"
     ]
    }
   ],
   "source": [
    "for j,i in enumerate(model_list):\n",
    "    test_x = np.array(real_test)\n",
    "    test_x = test_x.reshape(test_x.shape[0], 1, test_x.shape[1])\n",
    "    model=load_model(i)\n",
    "    pred=model.predict(test_x)\n",
    "    col=j+1\n",
    "    sample.iloc[:, col]=pd.DataFrame(pred)"
   ]
  },
  {
   "cell_type": "code",
   "execution_count": 203,
   "id": "eda14e21",
   "metadata": {},
   "outputs": [],
   "source": [
    "sample=pd.read_csv('competition_data/sample_submission.csv')"
   ]
  },
  {
   "cell_type": "code",
   "execution_count": 233,
   "id": "87e40881",
   "metadata": {},
   "outputs": [],
   "source": [
    "sample.to_csv('lstm_0818.csv', index=False)"
   ]
  },
  {
   "cell_type": "code",
   "execution_count": null,
   "id": "59ac1e3e",
   "metadata": {},
   "outputs": [],
   "source": []
  }
 ],
 "metadata": {
  "kernelspec": {
   "display_name": "Python 3 (ipykernel)",
   "language": "python",
   "name": "python3"
  },
  "language_info": {
   "codemirror_mode": {
    "name": "ipython",
    "version": 3
   },
   "file_extension": ".py",
   "mimetype": "text/x-python",
   "name": "python",
   "nbconvert_exporter": "python",
   "pygments_lexer": "ipython3",
   "version": "3.9.12"
  },
  "toc": {
   "base_numbering": 1,
   "nav_menu": {},
   "number_sections": true,
   "sideBar": true,
   "skip_h1_title": false,
   "title_cell": "Table of Contents",
   "title_sidebar": "Contents",
   "toc_cell": false,
   "toc_position": {
    "height": "calc(100% - 180px)",
    "left": "10px",
    "top": "150px",
    "width": "329.056px"
   },
   "toc_section_display": true,
   "toc_window_display": true
  }
 },
 "nbformat": 4,
 "nbformat_minor": 5
}
